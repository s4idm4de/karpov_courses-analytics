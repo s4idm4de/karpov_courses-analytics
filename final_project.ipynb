{
 "cells": [
  {
   "cell_type": "markdown",
   "metadata": {},
   "source": [
    "# Проект: вариант 1\n",
    "Представьте, что вы работаете в компании, которая разрабатывает мобильные игры. К вам пришел менеджер с рядом задач по исследованию нескольких аспектов мобильного приложения:\n",
    "\n",
    "В первую очередь, его интересует показатель retention. Напишите функцию для его подсчета.\n",
    "Помимо этого, в компании провели A/B тестирование наборов акционных предложений. На основе имеющихся данных определите, какой набор можно считать лучшим и на основе каких метрик стоит принять правильное решение.\n",
    "Предложите метрики для оценки результатов последнего прошедшего тематического события в игре."
   ]
  },
  {
   "cell_type": "code",
   "execution_count": 1,
   "metadata": {},
   "outputs": [],
   "source": [
    "import pandas as pd\n",
    "import numpy as np\n",
    "import seaborn as sns\n",
    "import datetime as dt\n",
    "import matplotlib.pyplot as plt\n",
    "from scipy import stats"
   ]
  },
  {
   "cell_type": "code",
   "execution_count": 2,
   "metadata": {},
   "outputs": [],
   "source": [
    "reg = pd.read_csv('../../shared/problem1-reg_data.csv', sep=';')"
   ]
  },
  {
   "cell_type": "code",
   "execution_count": 3,
   "metadata": {},
   "outputs": [
    {
     "data": {
      "text/html": [
       "<div>\n",
       "<style scoped>\n",
       "    .dataframe tbody tr th:only-of-type {\n",
       "        vertical-align: middle;\n",
       "    }\n",
       "\n",
       "    .dataframe tbody tr th {\n",
       "        vertical-align: top;\n",
       "    }\n",
       "\n",
       "    .dataframe thead th {\n",
       "        text-align: right;\n",
       "    }\n",
       "</style>\n",
       "<table border=\"1\" class=\"dataframe\">\n",
       "  <thead>\n",
       "    <tr style=\"text-align: right;\">\n",
       "      <th></th>\n",
       "      <th>reg_ts</th>\n",
       "      <th>uid</th>\n",
       "    </tr>\n",
       "  </thead>\n",
       "  <tbody>\n",
       "    <tr>\n",
       "      <th>0</th>\n",
       "      <td>911382223</td>\n",
       "      <td>1</td>\n",
       "    </tr>\n",
       "    <tr>\n",
       "      <th>1</th>\n",
       "      <td>932683089</td>\n",
       "      <td>2</td>\n",
       "    </tr>\n",
       "    <tr>\n",
       "      <th>2</th>\n",
       "      <td>947802447</td>\n",
       "      <td>3</td>\n",
       "    </tr>\n",
       "    <tr>\n",
       "      <th>3</th>\n",
       "      <td>959523541</td>\n",
       "      <td>4</td>\n",
       "    </tr>\n",
       "    <tr>\n",
       "      <th>4</th>\n",
       "      <td>969103313</td>\n",
       "      <td>5</td>\n",
       "    </tr>\n",
       "  </tbody>\n",
       "</table>\n",
       "</div>"
      ],
      "text/plain": [
       "      reg_ts  uid\n",
       "0  911382223    1\n",
       "1  932683089    2\n",
       "2  947802447    3\n",
       "3  959523541    4\n",
       "4  969103313    5"
      ]
     },
     "execution_count": 3,
     "metadata": {},
     "output_type": "execute_result"
    }
   ],
   "source": [
    "reg.head()"
   ]
  },
  {
   "cell_type": "code",
   "execution_count": 4,
   "metadata": {},
   "outputs": [
    {
     "data": {
      "text/plain": [
       "reg_ts    False\n",
       "uid       False\n",
       "dtype: bool"
      ]
     },
     "execution_count": 4,
     "metadata": {},
     "output_type": "execute_result"
    }
   ],
   "source": [
    "reg.isna().any()"
   ]
  },
  {
   "cell_type": "code",
   "execution_count": 5,
   "metadata": {},
   "outputs": [],
   "source": [
    "fd = pd.read_csv('../../shared/problem1-auth_data.csv', sep=';')"
   ]
  },
  {
   "cell_type": "code",
   "execution_count": 6,
   "metadata": {},
   "outputs": [
    {
     "data": {
      "text/html": [
       "<div>\n",
       "<style scoped>\n",
       "    .dataframe tbody tr th:only-of-type {\n",
       "        vertical-align: middle;\n",
       "    }\n",
       "\n",
       "    .dataframe tbody tr th {\n",
       "        vertical-align: top;\n",
       "    }\n",
       "\n",
       "    .dataframe thead th {\n",
       "        text-align: right;\n",
       "    }\n",
       "</style>\n",
       "<table border=\"1\" class=\"dataframe\">\n",
       "  <thead>\n",
       "    <tr style=\"text-align: right;\">\n",
       "      <th></th>\n",
       "      <th>auth_ts</th>\n",
       "      <th>uid</th>\n",
       "    </tr>\n",
       "  </thead>\n",
       "  <tbody>\n",
       "    <tr>\n",
       "      <th>0</th>\n",
       "      <td>911382223</td>\n",
       "      <td>1</td>\n",
       "    </tr>\n",
       "    <tr>\n",
       "      <th>1</th>\n",
       "      <td>932683089</td>\n",
       "      <td>2</td>\n",
       "    </tr>\n",
       "    <tr>\n",
       "      <th>2</th>\n",
       "      <td>932921206</td>\n",
       "      <td>2</td>\n",
       "    </tr>\n",
       "    <tr>\n",
       "      <th>3</th>\n",
       "      <td>933393015</td>\n",
       "      <td>2</td>\n",
       "    </tr>\n",
       "    <tr>\n",
       "      <th>4</th>\n",
       "      <td>933875379</td>\n",
       "      <td>2</td>\n",
       "    </tr>\n",
       "  </tbody>\n",
       "</table>\n",
       "</div>"
      ],
      "text/plain": [
       "     auth_ts  uid\n",
       "0  911382223    1\n",
       "1  932683089    2\n",
       "2  932921206    2\n",
       "3  933393015    2\n",
       "4  933875379    2"
      ]
     },
     "execution_count": 6,
     "metadata": {},
     "output_type": "execute_result"
    }
   ],
   "source": [
    "fd.head()"
   ]
  },
  {
   "cell_type": "code",
   "execution_count": 7,
   "metadata": {},
   "outputs": [
    {
     "data": {
      "text/plain": [
       "auth_ts    False\n",
       "uid        False\n",
       "dtype: bool"
      ]
     },
     "execution_count": 7,
     "metadata": {},
     "output_type": "execute_result"
    }
   ],
   "source": [
    "fd.isna().any()"
   ]
  },
  {
   "cell_type": "code",
   "execution_count": 8,
   "metadata": {},
   "outputs": [
    {
     "data": {
      "text/plain": [
       "0          1998-11-18\n",
       "1          1999-07-22\n",
       "2          1999-07-25\n",
       "3          1999-07-31\n",
       "4          1999-08-05\n",
       "              ...    \n",
       "9601008    2020-09-23\n",
       "9601009    2020-09-23\n",
       "9601010    2020-09-23\n",
       "9601011    2020-09-23\n",
       "9601012    2020-09-23\n",
       "Name: auth_ts, Length: 9601013, dtype: object"
      ]
     },
     "execution_count": 8,
     "metadata": {},
     "output_type": "execute_result"
    }
   ],
   "source": [
    "pd.to_datetime(fd['auth_ts'], unit='s').dt.date"
   ]
  },
  {
   "cell_type": "markdown",
   "metadata": {},
   "source": [
    "Не имеет смысла рассматривать данные за 20 лет. За это время движок, концепция и политика игры множество раз менялись. Поймём для начала сам разброс дат"
   ]
  },
  {
   "cell_type": "code",
   "execution_count": 9,
   "metadata": {},
   "outputs": [],
   "source": [
    "fd['date'] = pd.to_datetime(fd['auth_ts'], unit='s').dt.date"
   ]
  },
  {
   "cell_type": "code",
   "execution_count": 10,
   "metadata": {},
   "outputs": [
    {
     "data": {
      "text/html": [
       "<div>\n",
       "<style scoped>\n",
       "    .dataframe tbody tr th:only-of-type {\n",
       "        vertical-align: middle;\n",
       "    }\n",
       "\n",
       "    .dataframe tbody tr th {\n",
       "        vertical-align: top;\n",
       "    }\n",
       "\n",
       "    .dataframe thead th {\n",
       "        text-align: right;\n",
       "    }\n",
       "</style>\n",
       "<table border=\"1\" class=\"dataframe\">\n",
       "  <thead>\n",
       "    <tr style=\"text-align: right;\">\n",
       "      <th></th>\n",
       "      <th>auth_ts</th>\n",
       "      <th>uid</th>\n",
       "      <th>date</th>\n",
       "    </tr>\n",
       "  </thead>\n",
       "  <tbody>\n",
       "    <tr>\n",
       "      <th>0</th>\n",
       "      <td>911382223</td>\n",
       "      <td>1</td>\n",
       "      <td>1998-11-18</td>\n",
       "    </tr>\n",
       "    <tr>\n",
       "      <th>1</th>\n",
       "      <td>932683089</td>\n",
       "      <td>2</td>\n",
       "      <td>1999-07-22</td>\n",
       "    </tr>\n",
       "    <tr>\n",
       "      <th>2</th>\n",
       "      <td>932921206</td>\n",
       "      <td>2</td>\n",
       "      <td>1999-07-25</td>\n",
       "    </tr>\n",
       "    <tr>\n",
       "      <th>3</th>\n",
       "      <td>933393015</td>\n",
       "      <td>2</td>\n",
       "      <td>1999-07-31</td>\n",
       "    </tr>\n",
       "    <tr>\n",
       "      <th>4</th>\n",
       "      <td>933875379</td>\n",
       "      <td>2</td>\n",
       "      <td>1999-08-05</td>\n",
       "    </tr>\n",
       "  </tbody>\n",
       "</table>\n",
       "</div>"
      ],
      "text/plain": [
       "     auth_ts  uid        date\n",
       "0  911382223    1  1998-11-18\n",
       "1  932683089    2  1999-07-22\n",
       "2  932921206    2  1999-07-25\n",
       "3  933393015    2  1999-07-31\n",
       "4  933875379    2  1999-08-05"
      ]
     },
     "execution_count": 10,
     "metadata": {},
     "output_type": "execute_result"
    }
   ],
   "source": [
    "fd.head()"
   ]
  },
  {
   "cell_type": "code",
   "execution_count": 11,
   "metadata": {},
   "outputs": [
    {
     "data": {
      "text/plain": [
       "<matplotlib.axes._subplots.AxesSubplot at 0x7f24b51f35f8>"
      ]
     },
     "execution_count": 11,
     "metadata": {},
     "output_type": "execute_result"
    },
    {
     "data": {
      "image/png": "[encoded data removed]",
      "text/plain": [
       "<Figure size 432x288 with 1 Axes>"
      ]
     },
     "metadata": {
      "needs_background": "light"
     },
     "output_type": "display_data"
    }
   ],
   "source": [
    "sns.histplot(fd.date)"
   ]
  },
  {
   "cell_type": "code",
   "execution_count": 12,
   "metadata": {},
   "outputs": [
    {
     "data": {
      "text/plain": [
       "datetime.date(2016, 12, 5)"
      ]
     },
     "execution_count": 12,
     "metadata": {},
     "output_type": "execute_result"
    }
   ],
   "source": [
    "fd.date.quantile(0.1)"
   ]
  },
  {
   "cell_type": "code",
   "execution_count": 13,
   "metadata": {},
   "outputs": [],
   "source": [
    "reg['date'] = pd.to_datetime(reg['reg_ts'], unit='s').dt.date"
   ]
  },
  {
   "cell_type": "code",
   "execution_count": 14,
   "metadata": {},
   "outputs": [
    {
     "data": {
      "text/plain": [
       "<matplotlib.axes._subplots.AxesSubplot at 0x7f24b2f5d160>"
      ]
     },
     "execution_count": 14,
     "metadata": {},
     "output_type": "execute_result"
    },
    {
     "data": {
      "image/png": "[encoded data removed]",
      "text/plain": [
       "<Figure size 432x288 with 1 Axes>"
      ]
     },
     "metadata": {
      "needs_background": "light"
     },
     "output_type": "display_data"
    }
   ],
   "source": [
    "sns.histplot(reg.date)"
   ]
  },
  {
   "cell_type": "code",
   "execution_count": 15,
   "metadata": {},
   "outputs": [
    {
     "data": {
      "text/plain": [
       "datetime.date(2016, 11, 23)"
      ]
     },
     "execution_count": 15,
     "metadata": {},
     "output_type": "execute_result"
    }
   ],
   "source": [
    "reg.date.quantile(0.1)"
   ]
  },
  {
   "cell_type": "markdown",
   "metadata": {},
   "source": [
    "Ограничемся хотя бы 2016ым годом"
   ]
  },
  {
   "cell_type": "code",
   "execution_count": 16,
   "metadata": {},
   "outputs": [],
   "source": [
    "reg = reg[reg.date > dt.date(2016, 1, 1)]"
   ]
  },
  {
   "cell_type": "code",
   "execution_count": 17,
   "metadata": {},
   "outputs": [],
   "source": [
    "fd = fd[fd.date > dt.date(2016, 1, 1)]"
   ]
  },
  {
   "cell_type": "markdown",
   "metadata": {},
   "source": [
    "Проверим, регистрировались ли пользователи в системе дважды"
   ]
  },
  {
   "cell_type": "code",
   "execution_count": 18,
   "metadata": {},
   "outputs": [
    {
     "data": {
      "text/plain": [
       "True"
      ]
     },
     "execution_count": 18,
     "metadata": {},
     "output_type": "execute_result"
    }
   ],
   "source": [
    "reg.shape[0] == reg.uid.nunique()"
   ]
  },
  {
   "cell_type": "markdown",
   "metadata": {},
   "source": [
    "Пользователь за день, мог заходить несколько раз. Нас интересует только сам факт, заходил ли пользователь за день. Уберём дубли"
   ]
  },
  {
   "cell_type": "code",
   "execution_count": 19,
   "metadata": {},
   "outputs": [],
   "source": [
    "fd_group = fd.groupby(by=['uid', 'date'], as_index=False).agg({'auth_ts':'min'})"
   ]
  },
  {
   "cell_type": "markdown",
   "metadata": {},
   "source": [
    "Найдём retantion n-ого дня"
   ]
  },
  {
   "cell_type": "code",
   "execution_count": 20,
   "metadata": {},
   "outputs": [],
   "source": [
    "retention_n = reg.merge(fd_group, \n",
    "                        how='left', \n",
    "                        on='uid').rename(columns={'date_x':'registration', 'date_y':'visit'})"
   ]
  },
  {
   "cell_type": "code",
   "execution_count": 21,
   "metadata": {},
   "outputs": [
    {
     "data": {
      "text/html": [
       "<div>\n",
       "<style scoped>\n",
       "    .dataframe tbody tr th:only-of-type {\n",
       "        vertical-align: middle;\n",
       "    }\n",
       "\n",
       "    .dataframe tbody tr th {\n",
       "        vertical-align: top;\n",
       "    }\n",
       "\n",
       "    .dataframe thead th {\n",
       "        text-align: right;\n",
       "    }\n",
       "</style>\n",
       "<table border=\"1\" class=\"dataframe\">\n",
       "  <thead>\n",
       "    <tr style=\"text-align: right;\">\n",
       "      <th></th>\n",
       "      <th>reg_ts</th>\n",
       "      <th>uid</th>\n",
       "      <th>registration</th>\n",
       "      <th>visit</th>\n",
       "      <th>auth_ts</th>\n",
       "    </tr>\n",
       "  </thead>\n",
       "  <tbody>\n",
       "    <tr>\n",
       "      <th>0</th>\n",
       "      <td>1451692939</td>\n",
       "      <td>64962</td>\n",
       "      <td>2016-01-02</td>\n",
       "      <td>2016-01-02</td>\n",
       "      <td>1451692939</td>\n",
       "    </tr>\n",
       "    <tr>\n",
       "      <th>1</th>\n",
       "      <td>1451693837</td>\n",
       "      <td>64963</td>\n",
       "      <td>2016-01-02</td>\n",
       "      <td>2016-01-02</td>\n",
       "      <td>1451693837</td>\n",
       "    </tr>\n",
       "    <tr>\n",
       "      <th>2</th>\n",
       "      <td>1451694736</td>\n",
       "      <td>64964</td>\n",
       "      <td>2016-01-02</td>\n",
       "      <td>2016-01-02</td>\n",
       "      <td>1451694736</td>\n",
       "    </tr>\n",
       "    <tr>\n",
       "      <th>3</th>\n",
       "      <td>1451695634</td>\n",
       "      <td>64966</td>\n",
       "      <td>2016-01-02</td>\n",
       "      <td>2016-01-02</td>\n",
       "      <td>1451695634</td>\n",
       "    </tr>\n",
       "    <tr>\n",
       "      <th>4</th>\n",
       "      <td>1451696533</td>\n",
       "      <td>64967</td>\n",
       "      <td>2016-01-02</td>\n",
       "      <td>2016-01-02</td>\n",
       "      <td>1451696533</td>\n",
       "    </tr>\n",
       "  </tbody>\n",
       "</table>\n",
       "</div>"
      ],
      "text/plain": [
       "       reg_ts    uid registration       visit     auth_ts\n",
       "0  1451692939  64962   2016-01-02  2016-01-02  1451692939\n",
       "1  1451693837  64963   2016-01-02  2016-01-02  1451693837\n",
       "2  1451694736  64964   2016-01-02  2016-01-02  1451694736\n",
       "3  1451695634  64966   2016-01-02  2016-01-02  1451695634\n",
       "4  1451696533  64967   2016-01-02  2016-01-02  1451696533"
      ]
     },
     "execution_count": 21,
     "metadata": {},
     "output_type": "execute_result"
    }
   ],
   "source": [
    "retention_n.head()"
   ]
  },
  {
   "cell_type": "markdown",
   "metadata": {},
   "source": [
    "Вообще полезно представлять динамику уникальных посещений"
   ]
  },
  {
   "cell_type": "code",
   "execution_count": 22,
   "metadata": {},
   "outputs": [
    {
     "data": {
      "text/plain": [
       "<matplotlib.axes._subplots.AxesSubplot at 0x7f2495c18f60>"
      ]
     },
     "execution_count": 22,
     "metadata": {},
     "output_type": "execute_result"
    },
    {
     "data": {
      "image/png": "[encoded data removed]",
      "text/plain": [
       "<Figure size 432x288 with 1 Axes>"
      ]
     },
     "metadata": {
      "needs_background": "light"
     },
     "output_type": "display_data"
    }
   ],
   "source": [
    "sns.histplot(retention_n.visit)"
   ]
  },
  {
   "cell_type": "markdown",
   "metadata": {},
   "source": [
    "выше мы рисовали график, с учетом повторных посещений за день. Тренды на этих графиках не отличаются"
   ]
  },
  {
   "cell_type": "code",
   "execution_count": 23,
   "metadata": {},
   "outputs": [
    {
     "data": {
      "text/plain": [
       "reg_ts          False\n",
       "uid             False\n",
       "registration    False\n",
       "visit           False\n",
       "auth_ts         False\n",
       "dtype: bool"
      ]
     },
     "execution_count": 23,
     "metadata": {},
     "output_type": "execute_result"
    }
   ],
   "source": [
    "retention_n.isna().any()"
   ]
  },
  {
   "cell_type": "code",
   "execution_count": 24,
   "metadata": {},
   "outputs": [],
   "source": [
    "retention_n['days_diff'] = (retention_n.visit - retention_n.registration).dt.days"
   ]
  },
  {
   "cell_type": "code",
   "execution_count": 25,
   "metadata": {},
   "outputs": [],
   "source": [
    "final_n_retention = retention_n.groupby(by='days_diff', as_index=False).agg({'uid':'count'})"
   ]
  },
  {
   "cell_type": "code",
   "execution_count": 26,
   "metadata": {},
   "outputs": [
    {
     "data": {
      "text/plain": [
       "Text(0, 0.5, 'uid count')"
      ]
     },
     "execution_count": 26,
     "metadata": {},
     "output_type": "execute_result"
    },
    {
     "data": {
      "image/png": "[encoded data removed]",
      "text/plain": [
       "<Figure size 1440x360 with 1 Axes>"
      ]
     },
     "metadata": {},
     "output_type": "display_data"
    }
   ],
   "source": [
    "sns.set(rc={'figure.figsize':(20, 5)})\n",
    "sns.lineplot(x=final_n_retention.days_diff, y=final_n_retention.uid).set_ylabel('uid count')"
   ]
  },
  {
   "cell_type": "markdown",
   "metadata": {},
   "source": [
    "Ожидаемо, нуливой день - все пользователи (дата первого входа равна дате регистрации). Такое количество пользователей мешает смотреть на график, посмотрим без нулевого дня "
   ]
  },
  {
   "cell_type": "code",
   "execution_count": 27,
   "metadata": {},
   "outputs": [
    {
     "data": {
      "text/plain": [
       "Text(0, 0.5, 'uid count')"
      ]
     },
     "execution_count": 27,
     "metadata": {},
     "output_type": "execute_result"
    },
    {
     "data": {
      "image/png": "[encoded data removed]",
      "text/plain": [
       "<Figure size 1440x360 with 1 Axes>"
      ]
     },
     "metadata": {},
     "output_type": "display_data"
    }
   ],
   "source": [
    "sns.set(rc={'figure.figsize':(20, 5)})\n",
    "sns.lineplot(x=final_n_retention[final_n_retention.days_diff > 0].days_diff, \n",
    "             y=final_n_retention[final_n_retention.days_diff > 0].uid).set_ylabel('uid count')"
   ]
  },
  {
   "cell_type": "code",
   "execution_count": 28,
   "metadata": {},
   "outputs": [
    {
     "data": {
      "text/plain": [
       "(array([ 0,  1,  2,  3,  4,  5,  6,  7,  8,  9, 10, 11, 12, 13, 14, 15, 16,\n",
       "        17, 18, 19, 20, 21, 22, 23, 24, 25, 26, 27, 28, 29, 30, 31, 32, 33,\n",
       "        34, 35, 36, 37, 38, 39, 40, 41, 42, 43, 44, 45, 46, 47, 48, 49, 50,\n",
       "        51, 52, 53, 54, 55, 56, 57, 58, 59, 60, 61, 62, 63, 64, 65, 66, 67,\n",
       "        68, 69, 70, 71, 72, 73, 74, 75, 76, 77, 78, 79, 80, 81, 82, 83, 84,\n",
       "        85, 86, 87, 88, 89, 90, 91, 92, 93, 94, 95, 96, 97, 98]),\n",
       " <a list of 99 Text major ticklabel objects>)"
      ]
     },
     "execution_count": 28,
     "metadata": {},
     "output_type": "execute_result"
    },
    {
     "data": {
      "image/png": "[encoded data removed]",
      "text/plain": [
       "<Figure size 1440x360 with 1 Axes>"
      ]
     },
     "metadata": {},
     "output_type": "display_data"
    }
   ],
   "source": [
    "sns.set(rc={'figure.figsize':(20, 5)})\n",
    "sns.barplot(x=final_n_retention[(final_n_retention.days_diff > 0) & \n",
    "                                (final_n_retention.days_diff < 100)].days_diff, \n",
    "            y=final_n_retention[(final_n_retention.days_diff > 0) & \n",
    "                                (final_n_retention.days_diff < 100)].uid).set_ylabel('uid count')\n",
    "plt.xticks(rotation=45)"
   ]
  },
  {
   "cell_type": "markdown",
   "metadata": {},
   "source": [
    "Из графика мы видим, что примерно до 14ого дня показатель посещения увеличивается, дальше резко уменьшается до 45ого дня, после чего начинает уменьшаться постепенно"
   ]
  },
  {
   "cell_type": "markdown",
   "metadata": {},
   "source": [
    "Давайте посмотрим на средние значения (без учёта нулевого дня. Нулевой день - скорее показатель рекламной компании, а не качества самого продукта)"
   ]
  },
  {
   "cell_type": "code",
   "execution_count": 29,
   "metadata": {},
   "outputs": [
    {
     "data": {
      "text/plain": [
       "3977.1953623188406"
      ]
     },
     "execution_count": 29,
     "metadata": {},
     "output_type": "execute_result"
    }
   ],
   "source": [
    "final_n_retention[final_n_retention.days_diff > 0].uid.mean()"
   ]
  },
  {
   "cell_type": "markdown",
   "metadata": {},
   "source": [
    "В среднем в день было 3977 пользователей, заходивших хоть раз после регистрации"
   ]
  },
  {
   "cell_type": "code",
   "execution_count": 30,
   "metadata": {},
   "outputs": [
    {
     "data": {
      "text/plain": [
       "2322.0"
      ]
     },
     "execution_count": 30,
     "metadata": {},
     "output_type": "execute_result"
    }
   ],
   "source": [
    "final_n_retention[final_n_retention.days_diff > 0].uid.median()"
   ]
  },
  {
   "cell_type": "markdown",
   "metadata": {},
   "source": [
    "Посмотрим на когорты по месяцам"
   ]
  },
  {
   "cell_type": "code",
   "execution_count": 31,
   "metadata": {},
   "outputs": [],
   "source": [
    "retention_n['month_visit'] = retention_n.visit.apply(lambda x: x.replace(day=1).strftime('%Y-%m-%d'))"
   ]
  },
  {
   "cell_type": "code",
   "execution_count": 32,
   "metadata": {},
   "outputs": [],
   "source": [
    "retention_n['month_registration'] = retention_n.registration.apply(lambda x: \n",
    "                                                        x.replace(day=1).strftime('%Y-%m-%d'))"
   ]
  },
  {
   "cell_type": "code",
   "execution_count": 33,
   "metadata": {},
   "outputs": [],
   "source": [
    "month_categories = retention_n[['month_visit', \n",
    "                                'month_registration', \n",
    "                                'uid']].pivot_table(index=['month_registration'],\n",
    "                                                                    columns=['month_visit'], \n",
    "                                                                    aggfunc='count', \n",
    "                                                                    values='uid')"
   ]
  },
  {
   "cell_type": "code",
   "execution_count": 34,
   "metadata": {},
   "outputs": [
    {
     "data": {
      "text/html": [
       "<div>\n",
       "<style scoped>\n",
       "    .dataframe tbody tr th:only-of-type {\n",
       "        vertical-align: middle;\n",
       "    }\n",
       "\n",
       "    .dataframe tbody tr th {\n",
       "        vertical-align: top;\n",
       "    }\n",
       "\n",
       "    .dataframe thead th {\n",
       "        text-align: right;\n",
       "    }\n",
       "</style>\n",
       "<table border=\"1\" class=\"dataframe\">\n",
       "  <thead>\n",
       "    <tr style=\"text-align: right;\">\n",
       "      <th>month_visit</th>\n",
       "      <th>2016-01-01</th>\n",
       "      <th>2016-02-01</th>\n",
       "      <th>2016-03-01</th>\n",
       "      <th>2016-04-01</th>\n",
       "      <th>2016-05-01</th>\n",
       "      <th>2016-06-01</th>\n",
       "      <th>2016-07-01</th>\n",
       "      <th>2016-08-01</th>\n",
       "      <th>2016-09-01</th>\n",
       "      <th>2016-10-01</th>\n",
       "      <th>...</th>\n",
       "      <th>2019-12-01</th>\n",
       "      <th>2020-01-01</th>\n",
       "      <th>2020-02-01</th>\n",
       "      <th>2020-03-01</th>\n",
       "      <th>2020-04-01</th>\n",
       "      <th>2020-05-01</th>\n",
       "      <th>2020-06-01</th>\n",
       "      <th>2020-07-01</th>\n",
       "      <th>2020-08-01</th>\n",
       "      <th>2020-09-01</th>\n",
       "    </tr>\n",
       "    <tr>\n",
       "      <th>month_registration</th>\n",
       "      <th></th>\n",
       "      <th></th>\n",
       "      <th></th>\n",
       "      <th></th>\n",
       "      <th></th>\n",
       "      <th></th>\n",
       "      <th></th>\n",
       "      <th></th>\n",
       "      <th></th>\n",
       "      <th></th>\n",
       "      <th></th>\n",
       "      <th></th>\n",
       "      <th></th>\n",
       "      <th></th>\n",
       "      <th></th>\n",
       "      <th></th>\n",
       "      <th></th>\n",
       "      <th></th>\n",
       "      <th></th>\n",
       "      <th></th>\n",
       "      <th></th>\n",
       "    </tr>\n",
       "  </thead>\n",
       "  <tbody>\n",
       "    <tr>\n",
       "      <th>2016-01-01</th>\n",
       "      <td>5005.0</td>\n",
       "      <td>2456.0</td>\n",
       "      <td>1049.0</td>\n",
       "      <td>919.0</td>\n",
       "      <td>937.0</td>\n",
       "      <td>898.0</td>\n",
       "      <td>941.0</td>\n",
       "      <td>936.0</td>\n",
       "      <td>925.0</td>\n",
       "      <td>937.0</td>\n",
       "      <td>...</td>\n",
       "      <td>923.0</td>\n",
       "      <td>934.0</td>\n",
       "      <td>879.0</td>\n",
       "      <td>944.0</td>\n",
       "      <td>940.0</td>\n",
       "      <td>925.0</td>\n",
       "      <td>935.0</td>\n",
       "      <td>941.0</td>\n",
       "      <td>931.0</td>\n",
       "      <td>675.0</td>\n",
       "    </tr>\n",
       "    <tr>\n",
       "      <th>2016-02-01</th>\n",
       "      <td>NaN</td>\n",
       "      <td>5050.0</td>\n",
       "      <td>2784.0</td>\n",
       "      <td>1120.0</td>\n",
       "      <td>1126.0</td>\n",
       "      <td>1094.0</td>\n",
       "      <td>1103.0</td>\n",
       "      <td>1089.0</td>\n",
       "      <td>1083.0</td>\n",
       "      <td>1112.0</td>\n",
       "      <td>...</td>\n",
       "      <td>1119.0</td>\n",
       "      <td>1116.0</td>\n",
       "      <td>1054.0</td>\n",
       "      <td>1086.0</td>\n",
       "      <td>1085.0</td>\n",
       "      <td>1124.0</td>\n",
       "      <td>1071.0</td>\n",
       "      <td>1111.0</td>\n",
       "      <td>1070.0</td>\n",
       "      <td>819.0</td>\n",
       "    </tr>\n",
       "    <tr>\n",
       "      <th>2016-03-01</th>\n",
       "      <td>NaN</td>\n",
       "      <td>NaN</td>\n",
       "      <td>5757.0</td>\n",
       "      <td>2933.0</td>\n",
       "      <td>1353.0</td>\n",
       "      <td>1252.0</td>\n",
       "      <td>1281.0</td>\n",
       "      <td>1269.0</td>\n",
       "      <td>1230.0</td>\n",
       "      <td>1277.0</td>\n",
       "      <td>...</td>\n",
       "      <td>1265.0</td>\n",
       "      <td>1274.0</td>\n",
       "      <td>1192.0</td>\n",
       "      <td>1314.0</td>\n",
       "      <td>1232.0</td>\n",
       "      <td>1285.0</td>\n",
       "      <td>1253.0</td>\n",
       "      <td>1249.0</td>\n",
       "      <td>1315.0</td>\n",
       "      <td>920.0</td>\n",
       "    </tr>\n",
       "    <tr>\n",
       "      <th>2016-04-01</th>\n",
       "      <td>NaN</td>\n",
       "      <td>NaN</td>\n",
       "      <td>NaN</td>\n",
       "      <td>5625.0</td>\n",
       "      <td>3007.0</td>\n",
       "      <td>1333.0</td>\n",
       "      <td>1302.0</td>\n",
       "      <td>1298.0</td>\n",
       "      <td>1261.0</td>\n",
       "      <td>1315.0</td>\n",
       "      <td>...</td>\n",
       "      <td>1349.0</td>\n",
       "      <td>1297.0</td>\n",
       "      <td>1221.0</td>\n",
       "      <td>1323.0</td>\n",
       "      <td>1276.0</td>\n",
       "      <td>1310.0</td>\n",
       "      <td>1250.0</td>\n",
       "      <td>1334.0</td>\n",
       "      <td>1313.0</td>\n",
       "      <td>984.0</td>\n",
       "    </tr>\n",
       "    <tr>\n",
       "      <th>2016-05-01</th>\n",
       "      <td>NaN</td>\n",
       "      <td>NaN</td>\n",
       "      <td>NaN</td>\n",
       "      <td>NaN</td>\n",
       "      <td>6288.0</td>\n",
       "      <td>3114.0</td>\n",
       "      <td>1414.0</td>\n",
       "      <td>1379.0</td>\n",
       "      <td>1310.0</td>\n",
       "      <td>1373.0</td>\n",
       "      <td>...</td>\n",
       "      <td>1370.0</td>\n",
       "      <td>1390.0</td>\n",
       "      <td>1296.0</td>\n",
       "      <td>1391.0</td>\n",
       "      <td>1336.0</td>\n",
       "      <td>1374.0</td>\n",
       "      <td>1325.0</td>\n",
       "      <td>1372.0</td>\n",
       "      <td>1389.0</td>\n",
       "      <td>1007.0</td>\n",
       "    </tr>\n",
       "    <tr>\n",
       "      <th>2016-06-01</th>\n",
       "      <td>NaN</td>\n",
       "      <td>NaN</td>\n",
       "      <td>NaN</td>\n",
       "      <td>NaN</td>\n",
       "      <td>NaN</td>\n",
       "      <td>6424.0</td>\n",
       "      <td>3661.0</td>\n",
       "      <td>1591.0</td>\n",
       "      <td>1458.0</td>\n",
       "      <td>1509.0</td>\n",
       "      <td>...</td>\n",
       "      <td>1492.0</td>\n",
       "      <td>1517.0</td>\n",
       "      <td>1437.0</td>\n",
       "      <td>1518.0</td>\n",
       "      <td>1458.0</td>\n",
       "      <td>1496.0</td>\n",
       "      <td>1442.0</td>\n",
       "      <td>1485.0</td>\n",
       "      <td>1501.0</td>\n",
       "      <td>1094.0</td>\n",
       "    </tr>\n",
       "    <tr>\n",
       "      <th>2016-07-01</th>\n",
       "      <td>NaN</td>\n",
       "      <td>NaN</td>\n",
       "      <td>NaN</td>\n",
       "      <td>NaN</td>\n",
       "      <td>NaN</td>\n",
       "      <td>NaN</td>\n",
       "      <td>6935.0</td>\n",
       "      <td>3865.0</td>\n",
       "      <td>1723.0</td>\n",
       "      <td>1694.0</td>\n",
       "      <td>...</td>\n",
       "      <td>1720.0</td>\n",
       "      <td>1716.0</td>\n",
       "      <td>1589.0</td>\n",
       "      <td>1665.0</td>\n",
       "      <td>1646.0</td>\n",
       "      <td>1695.0</td>\n",
       "      <td>1642.0</td>\n",
       "      <td>1681.0</td>\n",
       "      <td>1693.0</td>\n",
       "      <td>1262.0</td>\n",
       "    </tr>\n",
       "    <tr>\n",
       "      <th>2016-08-01</th>\n",
       "      <td>NaN</td>\n",
       "      <td>NaN</td>\n",
       "      <td>NaN</td>\n",
       "      <td>NaN</td>\n",
       "      <td>NaN</td>\n",
       "      <td>NaN</td>\n",
       "      <td>NaN</td>\n",
       "      <td>7316.0</td>\n",
       "      <td>3655.0</td>\n",
       "      <td>1781.0</td>\n",
       "      <td>...</td>\n",
       "      <td>1677.0</td>\n",
       "      <td>1648.0</td>\n",
       "      <td>1559.0</td>\n",
       "      <td>1665.0</td>\n",
       "      <td>1608.0</td>\n",
       "      <td>1673.0</td>\n",
       "      <td>1603.0</td>\n",
       "      <td>1691.0</td>\n",
       "      <td>1690.0</td>\n",
       "      <td>1229.0</td>\n",
       "    </tr>\n",
       "    <tr>\n",
       "      <th>2016-09-01</th>\n",
       "      <td>NaN</td>\n",
       "      <td>NaN</td>\n",
       "      <td>NaN</td>\n",
       "      <td>NaN</td>\n",
       "      <td>NaN</td>\n",
       "      <td>NaN</td>\n",
       "      <td>NaN</td>\n",
       "      <td>NaN</td>\n",
       "      <td>7321.0</td>\n",
       "      <td>3963.0</td>\n",
       "      <td>...</td>\n",
       "      <td>1691.0</td>\n",
       "      <td>1673.0</td>\n",
       "      <td>1568.0</td>\n",
       "      <td>1691.0</td>\n",
       "      <td>1603.0</td>\n",
       "      <td>1688.0</td>\n",
       "      <td>1647.0</td>\n",
       "      <td>1711.0</td>\n",
       "      <td>1711.0</td>\n",
       "      <td>1209.0</td>\n",
       "    </tr>\n",
       "    <tr>\n",
       "      <th>2016-10-01</th>\n",
       "      <td>NaN</td>\n",
       "      <td>NaN</td>\n",
       "      <td>NaN</td>\n",
       "      <td>NaN</td>\n",
       "      <td>NaN</td>\n",
       "      <td>NaN</td>\n",
       "      <td>NaN</td>\n",
       "      <td>NaN</td>\n",
       "      <td>NaN</td>\n",
       "      <td>8195.0</td>\n",
       "      <td>...</td>\n",
       "      <td>1876.0</td>\n",
       "      <td>1858.0</td>\n",
       "      <td>1729.0</td>\n",
       "      <td>1910.0</td>\n",
       "      <td>1816.0</td>\n",
       "      <td>1810.0</td>\n",
       "      <td>1818.0</td>\n",
       "      <td>1871.0</td>\n",
       "      <td>1855.0</td>\n",
       "      <td>1338.0</td>\n",
       "    </tr>\n",
       "    <tr>\n",
       "      <th>2016-11-01</th>\n",
       "      <td>NaN</td>\n",
       "      <td>NaN</td>\n",
       "      <td>NaN</td>\n",
       "      <td>NaN</td>\n",
       "      <td>NaN</td>\n",
       "      <td>NaN</td>\n",
       "      <td>NaN</td>\n",
       "      <td>NaN</td>\n",
       "      <td>NaN</td>\n",
       "      <td>NaN</td>\n",
       "      <td>...</td>\n",
       "      <td>1980.0</td>\n",
       "      <td>2045.0</td>\n",
       "      <td>1897.0</td>\n",
       "      <td>1999.0</td>\n",
       "      <td>1968.0</td>\n",
       "      <td>2031.0</td>\n",
       "      <td>1950.0</td>\n",
       "      <td>2009.0</td>\n",
       "      <td>1964.0</td>\n",
       "      <td>1495.0</td>\n",
       "    </tr>\n",
       "    <tr>\n",
       "      <th>2016-12-01</th>\n",
       "      <td>NaN</td>\n",
       "      <td>NaN</td>\n",
       "      <td>NaN</td>\n",
       "      <td>NaN</td>\n",
       "      <td>NaN</td>\n",
       "      <td>NaN</td>\n",
       "      <td>NaN</td>\n",
       "      <td>NaN</td>\n",
       "      <td>NaN</td>\n",
       "      <td>NaN</td>\n",
       "      <td>...</td>\n",
       "      <td>2232.0</td>\n",
       "      <td>2247.0</td>\n",
       "      <td>2105.0</td>\n",
       "      <td>2255.0</td>\n",
       "      <td>2172.0</td>\n",
       "      <td>2275.0</td>\n",
       "      <td>2191.0</td>\n",
       "      <td>2230.0</td>\n",
       "      <td>2247.0</td>\n",
       "      <td>1666.0</td>\n",
       "    </tr>\n",
       "    <tr>\n",
       "      <th>2017-01-01</th>\n",
       "      <td>NaN</td>\n",
       "      <td>NaN</td>\n",
       "      <td>NaN</td>\n",
       "      <td>NaN</td>\n",
       "      <td>NaN</td>\n",
       "      <td>NaN</td>\n",
       "      <td>NaN</td>\n",
       "      <td>NaN</td>\n",
       "      <td>NaN</td>\n",
       "      <td>NaN</td>\n",
       "      <td>...</td>\n",
       "      <td>2230.0</td>\n",
       "      <td>2196.0</td>\n",
       "      <td>2025.0</td>\n",
       "      <td>2169.0</td>\n",
       "      <td>2115.0</td>\n",
       "      <td>2231.0</td>\n",
       "      <td>2124.0</td>\n",
       "      <td>2213.0</td>\n",
       "      <td>2210.0</td>\n",
       "      <td>1617.0</td>\n",
       "    </tr>\n",
       "    <tr>\n",
       "      <th>2017-02-01</th>\n",
       "      <td>NaN</td>\n",
       "      <td>NaN</td>\n",
       "      <td>NaN</td>\n",
       "      <td>NaN</td>\n",
       "      <td>NaN</td>\n",
       "      <td>NaN</td>\n",
       "      <td>NaN</td>\n",
       "      <td>NaN</td>\n",
       "      <td>NaN</td>\n",
       "      <td>NaN</td>\n",
       "      <td>...</td>\n",
       "      <td>2057.0</td>\n",
       "      <td>2090.0</td>\n",
       "      <td>1935.0</td>\n",
       "      <td>2077.0</td>\n",
       "      <td>2018.0</td>\n",
       "      <td>2084.0</td>\n",
       "      <td>2044.0</td>\n",
       "      <td>2113.0</td>\n",
       "      <td>2073.0</td>\n",
       "      <td>1534.0</td>\n",
       "    </tr>\n",
       "    <tr>\n",
       "      <th>2017-03-01</th>\n",
       "      <td>NaN</td>\n",
       "      <td>NaN</td>\n",
       "      <td>NaN</td>\n",
       "      <td>NaN</td>\n",
       "      <td>NaN</td>\n",
       "      <td>NaN</td>\n",
       "      <td>NaN</td>\n",
       "      <td>NaN</td>\n",
       "      <td>NaN</td>\n",
       "      <td>NaN</td>\n",
       "      <td>...</td>\n",
       "      <td>2419.0</td>\n",
       "      <td>2417.0</td>\n",
       "      <td>2260.0</td>\n",
       "      <td>2408.0</td>\n",
       "      <td>2294.0</td>\n",
       "      <td>2421.0</td>\n",
       "      <td>2347.0</td>\n",
       "      <td>2432.0</td>\n",
       "      <td>2399.0</td>\n",
       "      <td>1770.0</td>\n",
       "    </tr>\n",
       "    <tr>\n",
       "      <th>2017-04-01</th>\n",
       "      <td>NaN</td>\n",
       "      <td>NaN</td>\n",
       "      <td>NaN</td>\n",
       "      <td>NaN</td>\n",
       "      <td>NaN</td>\n",
       "      <td>NaN</td>\n",
       "      <td>NaN</td>\n",
       "      <td>NaN</td>\n",
       "      <td>NaN</td>\n",
       "      <td>NaN</td>\n",
       "      <td>...</td>\n",
       "      <td>2533.0</td>\n",
       "      <td>2530.0</td>\n",
       "      <td>2363.0</td>\n",
       "      <td>2525.0</td>\n",
       "      <td>2465.0</td>\n",
       "      <td>2501.0</td>\n",
       "      <td>2474.0</td>\n",
       "      <td>2520.0</td>\n",
       "      <td>2537.0</td>\n",
       "      <td>1857.0</td>\n",
       "    </tr>\n",
       "    <tr>\n",
       "      <th>2017-05-01</th>\n",
       "      <td>NaN</td>\n",
       "      <td>NaN</td>\n",
       "      <td>NaN</td>\n",
       "      <td>NaN</td>\n",
       "      <td>NaN</td>\n",
       "      <td>NaN</td>\n",
       "      <td>NaN</td>\n",
       "      <td>NaN</td>\n",
       "      <td>NaN</td>\n",
       "      <td>NaN</td>\n",
       "      <td>...</td>\n",
       "      <td>2816.0</td>\n",
       "      <td>2839.0</td>\n",
       "      <td>2651.0</td>\n",
       "      <td>2876.0</td>\n",
       "      <td>2749.0</td>\n",
       "      <td>2804.0</td>\n",
       "      <td>2766.0</td>\n",
       "      <td>2853.0</td>\n",
       "      <td>2863.0</td>\n",
       "      <td>2050.0</td>\n",
       "    </tr>\n",
       "    <tr>\n",
       "      <th>2017-06-01</th>\n",
       "      <td>NaN</td>\n",
       "      <td>NaN</td>\n",
       "      <td>NaN</td>\n",
       "      <td>NaN</td>\n",
       "      <td>NaN</td>\n",
       "      <td>NaN</td>\n",
       "      <td>NaN</td>\n",
       "      <td>NaN</td>\n",
       "      <td>NaN</td>\n",
       "      <td>NaN</td>\n",
       "      <td>...</td>\n",
       "      <td>2869.0</td>\n",
       "      <td>2896.0</td>\n",
       "      <td>2739.0</td>\n",
       "      <td>2891.0</td>\n",
       "      <td>2814.0</td>\n",
       "      <td>2877.0</td>\n",
       "      <td>2779.0</td>\n",
       "      <td>2911.0</td>\n",
       "      <td>2887.0</td>\n",
       "      <td>2101.0</td>\n",
       "    </tr>\n",
       "    <tr>\n",
       "      <th>2017-07-01</th>\n",
       "      <td>NaN</td>\n",
       "      <td>NaN</td>\n",
       "      <td>NaN</td>\n",
       "      <td>NaN</td>\n",
       "      <td>NaN</td>\n",
       "      <td>NaN</td>\n",
       "      <td>NaN</td>\n",
       "      <td>NaN</td>\n",
       "      <td>NaN</td>\n",
       "      <td>NaN</td>\n",
       "      <td>...</td>\n",
       "      <td>2883.0</td>\n",
       "      <td>2847.0</td>\n",
       "      <td>2680.0</td>\n",
       "      <td>2893.0</td>\n",
       "      <td>2768.0</td>\n",
       "      <td>2889.0</td>\n",
       "      <td>2815.0</td>\n",
       "      <td>2858.0</td>\n",
       "      <td>2922.0</td>\n",
       "      <td>2108.0</td>\n",
       "    </tr>\n",
       "    <tr>\n",
       "      <th>2017-08-01</th>\n",
       "      <td>NaN</td>\n",
       "      <td>NaN</td>\n",
       "      <td>NaN</td>\n",
       "      <td>NaN</td>\n",
       "      <td>NaN</td>\n",
       "      <td>NaN</td>\n",
       "      <td>NaN</td>\n",
       "      <td>NaN</td>\n",
       "      <td>NaN</td>\n",
       "      <td>NaN</td>\n",
       "      <td>...</td>\n",
       "      <td>3128.0</td>\n",
       "      <td>3130.0</td>\n",
       "      <td>2929.0</td>\n",
       "      <td>3115.0</td>\n",
       "      <td>3036.0</td>\n",
       "      <td>3083.0</td>\n",
       "      <td>2985.0</td>\n",
       "      <td>3128.0</td>\n",
       "      <td>3138.0</td>\n",
       "      <td>2214.0</td>\n",
       "    </tr>\n",
       "  </tbody>\n",
       "</table>\n",
       "<p>20 rows × 57 columns</p>\n",
       "</div>"
      ],
      "text/plain": [
       "month_visit         2016-01-01  2016-02-01  2016-03-01  2016-04-01  \\\n",
       "month_registration                                                   \n",
       "2016-01-01              5005.0      2456.0      1049.0       919.0   \n",
       "2016-02-01                 NaN      5050.0      2784.0      1120.0   \n",
       "2016-03-01                 NaN         NaN      5757.0      2933.0   \n",
       "2016-04-01                 NaN         NaN         NaN      5625.0   \n",
       "2016-05-01                 NaN         NaN         NaN         NaN   \n",
       "2016-06-01                 NaN         NaN         NaN         NaN   \n",
       "2016-07-01                 NaN         NaN         NaN         NaN   \n",
       "2016-08-01                 NaN         NaN         NaN         NaN   \n",
       "2016-09-01                 NaN         NaN         NaN         NaN   \n",
       "2016-10-01                 NaN         NaN         NaN         NaN   \n",
       "2016-11-01                 NaN         NaN         NaN         NaN   \n",
       "2016-12-01                 NaN         NaN         NaN         NaN   \n",
       "2017-01-01                 NaN         NaN         NaN         NaN   \n",
       "2017-02-01                 NaN         NaN         NaN         NaN   \n",
       "2017-03-01                 NaN         NaN         NaN         NaN   \n",
       "2017-04-01                 NaN         NaN         NaN         NaN   \n",
       "2017-05-01                 NaN         NaN         NaN         NaN   \n",
       "2017-06-01                 NaN         NaN         NaN         NaN   \n",
       "2017-07-01                 NaN         NaN         NaN         NaN   \n",
       "2017-08-01                 NaN         NaN         NaN         NaN   \n",
       "\n",
       "month_visit         2016-05-01  2016-06-01  2016-07-01  2016-08-01  \\\n",
       "month_registration                                                   \n",
       "2016-01-01               937.0       898.0       941.0       936.0   \n",
       "2016-02-01              1126.0      1094.0      1103.0      1089.0   \n",
       "2016-03-01              1353.0      1252.0      1281.0      1269.0   \n",
       "2016-04-01              3007.0      1333.0      1302.0      1298.0   \n",
       "2016-05-01              6288.0      3114.0      1414.0      1379.0   \n",
       "2016-06-01                 NaN      6424.0      3661.0      1591.0   \n",
       "2016-07-01                 NaN         NaN      6935.0      3865.0   \n",
       "2016-08-01                 NaN         NaN         NaN      7316.0   \n",
       "2016-09-01                 NaN         NaN         NaN         NaN   \n",
       "2016-10-01                 NaN         NaN         NaN         NaN   \n",
       "2016-11-01                 NaN         NaN         NaN         NaN   \n",
       "2016-12-01                 NaN         NaN         NaN         NaN   \n",
       "2017-01-01                 NaN         NaN         NaN         NaN   \n",
       "2017-02-01                 NaN         NaN         NaN         NaN   \n",
       "2017-03-01                 NaN         NaN         NaN         NaN   \n",
       "2017-04-01                 NaN         NaN         NaN         NaN   \n",
       "2017-05-01                 NaN         NaN         NaN         NaN   \n",
       "2017-06-01                 NaN         NaN         NaN         NaN   \n",
       "2017-07-01                 NaN         NaN         NaN         NaN   \n",
       "2017-08-01                 NaN         NaN         NaN         NaN   \n",
       "\n",
       "month_visit         2016-09-01  2016-10-01  ...  2019-12-01  2020-01-01  \\\n",
       "month_registration                          ...                           \n",
       "2016-01-01               925.0       937.0  ...       923.0       934.0   \n",
       "2016-02-01              1083.0      1112.0  ...      1119.0      1116.0   \n",
       "2016-03-01              1230.0      1277.0  ...      1265.0      1274.0   \n",
       "2016-04-01              1261.0      1315.0  ...      1349.0      1297.0   \n",
       "2016-05-01              1310.0      1373.0  ...      1370.0      1390.0   \n",
       "2016-06-01              1458.0      1509.0  ...      1492.0      1517.0   \n",
       "2016-07-01              1723.0      1694.0  ...      1720.0      1716.0   \n",
       "2016-08-01              3655.0      1781.0  ...      1677.0      1648.0   \n",
       "2016-09-01              7321.0      3963.0  ...      1691.0      1673.0   \n",
       "2016-10-01                 NaN      8195.0  ...      1876.0      1858.0   \n",
       "2016-11-01                 NaN         NaN  ...      1980.0      2045.0   \n",
       "2016-12-01                 NaN         NaN  ...      2232.0      2247.0   \n",
       "2017-01-01                 NaN         NaN  ...      2230.0      2196.0   \n",
       "2017-02-01                 NaN         NaN  ...      2057.0      2090.0   \n",
       "2017-03-01                 NaN         NaN  ...      2419.0      2417.0   \n",
       "2017-04-01                 NaN         NaN  ...      2533.0      2530.0   \n",
       "2017-05-01                 NaN         NaN  ...      2816.0      2839.0   \n",
       "2017-06-01                 NaN         NaN  ...      2869.0      2896.0   \n",
       "2017-07-01                 NaN         NaN  ...      2883.0      2847.0   \n",
       "2017-08-01                 NaN         NaN  ...      3128.0      3130.0   \n",
       "\n",
       "month_visit         2020-02-01  2020-03-01  2020-04-01  2020-05-01  \\\n",
       "month_registration                                                   \n",
       "2016-01-01               879.0       944.0       940.0       925.0   \n",
       "2016-02-01              1054.0      1086.0      1085.0      1124.0   \n",
       "2016-03-01              1192.0      1314.0      1232.0      1285.0   \n",
       "2016-04-01              1221.0      1323.0      1276.0      1310.0   \n",
       "2016-05-01              1296.0      1391.0      1336.0      1374.0   \n",
       "2016-06-01              1437.0      1518.0      1458.0      1496.0   \n",
       "2016-07-01              1589.0      1665.0      1646.0      1695.0   \n",
       "2016-08-01              1559.0      1665.0      1608.0      1673.0   \n",
       "2016-09-01              1568.0      1691.0      1603.0      1688.0   \n",
       "2016-10-01              1729.0      1910.0      1816.0      1810.0   \n",
       "2016-11-01              1897.0      1999.0      1968.0      2031.0   \n",
       "2016-12-01              2105.0      2255.0      2172.0      2275.0   \n",
       "2017-01-01              2025.0      2169.0      2115.0      2231.0   \n",
       "2017-02-01              1935.0      2077.0      2018.0      2084.0   \n",
       "2017-03-01              2260.0      2408.0      2294.0      2421.0   \n",
       "2017-04-01              2363.0      2525.0      2465.0      2501.0   \n",
       "2017-05-01              2651.0      2876.0      2749.0      2804.0   \n",
       "2017-06-01              2739.0      2891.0      2814.0      2877.0   \n",
       "2017-07-01              2680.0      2893.0      2768.0      2889.0   \n",
       "2017-08-01              2929.0      3115.0      3036.0      3083.0   \n",
       "\n",
       "month_visit         2020-06-01  2020-07-01  2020-08-01  2020-09-01  \n",
       "month_registration                                                  \n",
       "2016-01-01               935.0       941.0       931.0       675.0  \n",
       "2016-02-01              1071.0      1111.0      1070.0       819.0  \n",
       "2016-03-01              1253.0      1249.0      1315.0       920.0  \n",
       "2016-04-01              1250.0      1334.0      1313.0       984.0  \n",
       "2016-05-01              1325.0      1372.0      1389.0      1007.0  \n",
       "2016-06-01              1442.0      1485.0      1501.0      1094.0  \n",
       "2016-07-01              1642.0      1681.0      1693.0      1262.0  \n",
       "2016-08-01              1603.0      1691.0      1690.0      1229.0  \n",
       "2016-09-01              1647.0      1711.0      1711.0      1209.0  \n",
       "2016-10-01              1818.0      1871.0      1855.0      1338.0  \n",
       "2016-11-01              1950.0      2009.0      1964.0      1495.0  \n",
       "2016-12-01              2191.0      2230.0      2247.0      1666.0  \n",
       "2017-01-01              2124.0      2213.0      2210.0      1617.0  \n",
       "2017-02-01              2044.0      2113.0      2073.0      1534.0  \n",
       "2017-03-01              2347.0      2432.0      2399.0      1770.0  \n",
       "2017-04-01              2474.0      2520.0      2537.0      1857.0  \n",
       "2017-05-01              2766.0      2853.0      2863.0      2050.0  \n",
       "2017-06-01              2779.0      2911.0      2887.0      2101.0  \n",
       "2017-07-01              2815.0      2858.0      2922.0      2108.0  \n",
       "2017-08-01              2985.0      3128.0      3138.0      2214.0  \n",
       "\n",
       "[20 rows x 57 columns]"
      ]
     },
     "execution_count": 34,
     "metadata": {},
     "output_type": "execute_result"
    }
   ],
   "source": [
    "month_categories.head(20)"
   ]
  },
  {
   "cell_type": "markdown",
   "metadata": {},
   "source": [
    "Посмотрим на когорты за последний год"
   ]
  },
  {
   "cell_type": "code",
   "execution_count": 35,
   "metadata": {},
   "outputs": [],
   "source": [
    "month_categories_last_year = retention_n[(retention_n.month_visit > '2019-12-31') \n",
    "                                         & (retention_n.month_registration > '2019-12-31')]\n",
    "[['month_visit', 'month_registration', 'uid']].pivot_table(index=['month_registration'], \n",
    "                                                           columns=['month_visit'], \n",
    "                                                           aggfunc='count', values='uid')"
   ]
  },
  {
   "cell_type": "code",
   "execution_count": 36,
   "metadata": {},
   "outputs": [
    {
     "data": {
      "text/html": [
       "<div>\n",
       "<style scoped>\n",
       "    .dataframe tbody tr th:only-of-type {\n",
       "        vertical-align: middle;\n",
       "    }\n",
       "\n",
       "    .dataframe tbody tr th {\n",
       "        vertical-align: top;\n",
       "    }\n",
       "\n",
       "    .dataframe thead th {\n",
       "        text-align: right;\n",
       "    }\n",
       "</style>\n",
       "<table border=\"1\" class=\"dataframe\">\n",
       "  <thead>\n",
       "    <tr style=\"text-align: right;\">\n",
       "      <th>month_visit</th>\n",
       "      <th>2020-01-01</th>\n",
       "      <th>2020-02-01</th>\n",
       "      <th>2020-03-01</th>\n",
       "      <th>2020-04-01</th>\n",
       "      <th>2020-05-01</th>\n",
       "      <th>2020-06-01</th>\n",
       "      <th>2020-07-01</th>\n",
       "      <th>2020-08-01</th>\n",
       "      <th>2020-09-01</th>\n",
       "    </tr>\n",
       "    <tr>\n",
       "      <th>month_registration</th>\n",
       "      <th></th>\n",
       "      <th></th>\n",
       "      <th></th>\n",
       "      <th></th>\n",
       "      <th></th>\n",
       "      <th></th>\n",
       "      <th></th>\n",
       "      <th></th>\n",
       "      <th></th>\n",
       "    </tr>\n",
       "  </thead>\n",
       "  <tbody>\n",
       "    <tr>\n",
       "      <th>2020-01-01</th>\n",
       "      <td>56735.0</td>\n",
       "      <td>28489.0</td>\n",
       "      <td>13863.0</td>\n",
       "      <td>12740.0</td>\n",
       "      <td>13052.0</td>\n",
       "      <td>12742.0</td>\n",
       "      <td>13070.0</td>\n",
       "      <td>13082.0</td>\n",
       "      <td>9488.0</td>\n",
       "    </tr>\n",
       "    <tr>\n",
       "      <th>2020-02-01</th>\n",
       "      <td>NaN</td>\n",
       "      <td>54229.0</td>\n",
       "      <td>30077.0</td>\n",
       "      <td>12839.0</td>\n",
       "      <td>12644.0</td>\n",
       "      <td>12176.0</td>\n",
       "      <td>12669.0</td>\n",
       "      <td>12658.0</td>\n",
       "      <td>9342.0</td>\n",
       "    </tr>\n",
       "    <tr>\n",
       "      <th>2020-03-01</th>\n",
       "      <td>NaN</td>\n",
       "      <td>NaN</td>\n",
       "      <td>63079.0</td>\n",
       "      <td>32546.0</td>\n",
       "      <td>15494.0</td>\n",
       "      <td>14383.0</td>\n",
       "      <td>14832.0</td>\n",
       "      <td>14789.0</td>\n",
       "      <td>10813.0</td>\n",
       "    </tr>\n",
       "    <tr>\n",
       "      <th>2020-04-01</th>\n",
       "      <td>NaN</td>\n",
       "      <td>NaN</td>\n",
       "      <td>NaN</td>\n",
       "      <td>63929.0</td>\n",
       "      <td>34359.0</td>\n",
       "      <td>15179.0</td>\n",
       "      <td>15070.0</td>\n",
       "      <td>14995.0</td>\n",
       "      <td>10992.0</td>\n",
       "    </tr>\n",
       "    <tr>\n",
       "      <th>2020-05-01</th>\n",
       "      <td>NaN</td>\n",
       "      <td>NaN</td>\n",
       "      <td>NaN</td>\n",
       "      <td>NaN</td>\n",
       "      <td>69815.0</td>\n",
       "      <td>36492.0</td>\n",
       "      <td>17214.0</td>\n",
       "      <td>16417.0</td>\n",
       "      <td>12001.0</td>\n",
       "    </tr>\n",
       "    <tr>\n",
       "      <th>2020-06-01</th>\n",
       "      <td>NaN</td>\n",
       "      <td>NaN</td>\n",
       "      <td>NaN</td>\n",
       "      <td>NaN</td>\n",
       "      <td>NaN</td>\n",
       "      <td>69722.0</td>\n",
       "      <td>37778.0</td>\n",
       "      <td>16855.0</td>\n",
       "      <td>11585.0</td>\n",
       "    </tr>\n",
       "    <tr>\n",
       "      <th>2020-07-01</th>\n",
       "      <td>NaN</td>\n",
       "      <td>NaN</td>\n",
       "      <td>NaN</td>\n",
       "      <td>NaN</td>\n",
       "      <td>NaN</td>\n",
       "      <td>NaN</td>\n",
       "      <td>77509.0</td>\n",
       "      <td>40549.0</td>\n",
       "      <td>13546.0</td>\n",
       "    </tr>\n",
       "    <tr>\n",
       "      <th>2020-08-01</th>\n",
       "      <td>NaN</td>\n",
       "      <td>NaN</td>\n",
       "      <td>NaN</td>\n",
       "      <td>NaN</td>\n",
       "      <td>NaN</td>\n",
       "      <td>NaN</td>\n",
       "      <td>NaN</td>\n",
       "      <td>81188.0</td>\n",
       "      <td>35410.0</td>\n",
       "    </tr>\n",
       "    <tr>\n",
       "      <th>2020-09-01</th>\n",
       "      <td>NaN</td>\n",
       "      <td>NaN</td>\n",
       "      <td>NaN</td>\n",
       "      <td>NaN</td>\n",
       "      <td>NaN</td>\n",
       "      <td>NaN</td>\n",
       "      <td>NaN</td>\n",
       "      <td>NaN</td>\n",
       "      <td>55810.0</td>\n",
       "    </tr>\n",
       "  </tbody>\n",
       "</table>\n",
       "</div>"
      ],
      "text/plain": [
       "month_visit         2020-01-01  2020-02-01  2020-03-01  2020-04-01  \\\n",
       "month_registration                                                   \n",
       "2020-01-01             56735.0     28489.0     13863.0     12740.0   \n",
       "2020-02-01                 NaN     54229.0     30077.0     12839.0   \n",
       "2020-03-01                 NaN         NaN     63079.0     32546.0   \n",
       "2020-04-01                 NaN         NaN         NaN     63929.0   \n",
       "2020-05-01                 NaN         NaN         NaN         NaN   \n",
       "2020-06-01                 NaN         NaN         NaN         NaN   \n",
       "2020-07-01                 NaN         NaN         NaN         NaN   \n",
       "2020-08-01                 NaN         NaN         NaN         NaN   \n",
       "2020-09-01                 NaN         NaN         NaN         NaN   \n",
       "\n",
       "month_visit         2020-05-01  2020-06-01  2020-07-01  2020-08-01  2020-09-01  \n",
       "month_registration                                                              \n",
       "2020-01-01             13052.0     12742.0     13070.0     13082.0      9488.0  \n",
       "2020-02-01             12644.0     12176.0     12669.0     12658.0      9342.0  \n",
       "2020-03-01             15494.0     14383.0     14832.0     14789.0     10813.0  \n",
       "2020-04-01             34359.0     15179.0     15070.0     14995.0     10992.0  \n",
       "2020-05-01             69815.0     36492.0     17214.0     16417.0     12001.0  \n",
       "2020-06-01                 NaN     69722.0     37778.0     16855.0     11585.0  \n",
       "2020-07-01                 NaN         NaN     77509.0     40549.0     13546.0  \n",
       "2020-08-01                 NaN         NaN         NaN     81188.0     35410.0  \n",
       "2020-09-01                 NaN         NaN         NaN         NaN     55810.0  "
      ]
     },
     "execution_count": 36,
     "metadata": {},
     "output_type": "execute_result"
    }
   ],
   "source": [
    "month_categories_last_year"
   ]
  },
  {
   "cell_type": "code",
   "execution_count": 37,
   "metadata": {},
   "outputs": [
    {
     "data": {
      "text/plain": [
       "<matplotlib.axes._subplots.AxesSubplot at 0x7f24db82df60>"
      ]
     },
     "execution_count": 37,
     "metadata": {},
     "output_type": "execute_result"
    },
    {
     "data": {
      "image/png": "[encoded data removed]",
      "text/plain": [
       "<Figure size 1440x720 with 2 Axes>"
      ]
     },
     "metadata": {},
     "output_type": "display_data"
    }
   ],
   "source": [
    "sns.set(rc={'figure.figsize':(20, 10)})\n",
    "sns.heatmap(month_categories_last_year, annot=True, linewidth=.5, fmt=\".0f\")"
   ]
  },
  {
   "cell_type": "markdown",
   "metadata": {},
   "source": [
    "Посчитаем для каждой когорты Retention rate (долю пользователей, которые продолжают использовать платформу). Считать её в сравнении с сегодняшнем днём нечестно, так как из более поздних когорт пользователи не успевают отвалиться. Поэтому посчитаем её за период 6 месяцев."
   ]
  },
  {
   "cell_type": "code",
   "execution_count": 38,
   "metadata": {},
   "outputs": [],
   "source": [
    "month_rr = []\n",
    "for i in range(16, 21):\n",
    "    for j in range(1, 13):\n",
    "        if j < 10:\n",
    "            if j + 6 > 12 and f'20{i+1}-0{(j+6)%12}-01' < '2020-09-01':\n",
    "                month_rr.append([f'20{i}-0{j}-01', \n",
    "                                month_categories[f'20{i+1}-0{(j+6)%12}-01'][f'20{i}-0{j}-01'] * 100 / \n",
    "                                 month_categories[f'20{i}-0{j}-01'][f'20{i}-0{j}-01']])\n",
    "            elif f'20{i}-{j+6}-01' < '2020-09-01' and j+6 >= 10:\n",
    "                month_rr.append([f'20{i}-0{j}-01', \n",
    "                                 month_categories[f'20{i}-{j+6}-01'][f'20{i}-0{j}-01'] * 100 / \n",
    "                                 month_categories[f'20{i}-0{j}-01'][f'20{i}-0{j}-01']])\n",
    "            elif f'20{i}-{j+6}-01' < '2020-09-01' and j+6 < 10:\n",
    "                month_rr.append([f'20{i}-0{j}-01', \n",
    "                                 month_categories[f'20{i}-0{j+6}-01'][f'20{i}-0{j}-01'] * 100 / \n",
    "                                 month_categories[f'20{i}-0{j}-01'][f'20{i}-0{j}-01']])\n",
    "        elif f'20{i+1}-0{(j+6)%12}-01' < '2020-09-01':\n",
    "            month_rr.append([f'20{i}-{j}-01', \n",
    "                             month_categories[f'20{i+1}-0{(j+6)%12}-01'][f'20{i}-{j}-01'] * 100 / \n",
    "                             month_categories[f'20{i}-{j}-01'][f'20{i}-{j}-01']])"
   ]
  },
  {
   "cell_type": "code",
   "execution_count": 39,
   "metadata": {},
   "outputs": [],
   "source": [
    "month_rr_df = pd.DataFrame(month_rr, columns=['month', 'rr'])"
   ]
  },
  {
   "cell_type": "code",
   "execution_count": 40,
   "metadata": {},
   "outputs": [
    {
     "data": {
      "image/png": "[encoded data removed]",
      "text/plain": [
       "<Figure size 1440x720 with 1 Axes>"
      ]
     },
     "metadata": {},
     "output_type": "display_data"
    }
   ],
   "source": [
    "sns.lineplot(data=month_rr_df, x='month', y='rr').set_ylabel('retention rate, %')\n",
    "dummy = plt.xticks(rotation=45)"
   ]
  },
  {
   "cell_type": "markdown",
   "metadata": {},
   "source": [
    "# Задание 2\n",
    "Имеются результаты A/B теста, в котором двум группам пользователей предлагались различные наборы акционных предложений. Известно, что ARPU в тестовой группе выше на 5%, чем в контрольной. При этом в контрольной группе 1928 игроков из 202103 оказались платящими, а в тестовой – 1805 из 202667.\n",
    "\n",
    "Какой набор предложений можно считать лучшим? Какие метрики стоит проанализировать для принятия правильного решения и как?"
   ]
  },
  {
   "cell_type": "code",
   "execution_count": 41,
   "metadata": {},
   "outputs": [],
   "source": [
    "df = pd.read_csv('project_1_task_2.csv', sep=';')"
   ]
  },
  {
   "cell_type": "code",
   "execution_count": 42,
   "metadata": {},
   "outputs": [
    {
     "data": {
      "text/html": [
       "<div>\n",
       "<style scoped>\n",
       "    .dataframe tbody tr th:only-of-type {\n",
       "        vertical-align: middle;\n",
       "    }\n",
       "\n",
       "    .dataframe tbody tr th {\n",
       "        vertical-align: top;\n",
       "    }\n",
       "\n",
       "    .dataframe thead th {\n",
       "        text-align: right;\n",
       "    }\n",
       "</style>\n",
       "<table border=\"1\" class=\"dataframe\">\n",
       "  <thead>\n",
       "    <tr style=\"text-align: right;\">\n",
       "      <th></th>\n",
       "      <th>user_id</th>\n",
       "      <th>revenue</th>\n",
       "      <th>testgroup</th>\n",
       "    </tr>\n",
       "  </thead>\n",
       "  <tbody>\n",
       "    <tr>\n",
       "      <th>0</th>\n",
       "      <td>1</td>\n",
       "      <td>0</td>\n",
       "      <td>b</td>\n",
       "    </tr>\n",
       "    <tr>\n",
       "      <th>1</th>\n",
       "      <td>2</td>\n",
       "      <td>0</td>\n",
       "      <td>a</td>\n",
       "    </tr>\n",
       "    <tr>\n",
       "      <th>2</th>\n",
       "      <td>3</td>\n",
       "      <td>0</td>\n",
       "      <td>a</td>\n",
       "    </tr>\n",
       "    <tr>\n",
       "      <th>3</th>\n",
       "      <td>4</td>\n",
       "      <td>0</td>\n",
       "      <td>b</td>\n",
       "    </tr>\n",
       "    <tr>\n",
       "      <th>4</th>\n",
       "      <td>5</td>\n",
       "      <td>0</td>\n",
       "      <td>b</td>\n",
       "    </tr>\n",
       "  </tbody>\n",
       "</table>\n",
       "</div>"
      ],
      "text/plain": [
       "   user_id  revenue testgroup\n",
       "0        1        0         b\n",
       "1        2        0         a\n",
       "2        3        0         a\n",
       "3        4        0         b\n",
       "4        5        0         b"
      ]
     },
     "execution_count": 42,
     "metadata": {},
     "output_type": "execute_result"
    }
   ],
   "source": [
    "df.head()"
   ]
  },
  {
   "cell_type": "code",
   "execution_count": 43,
   "metadata": {},
   "outputs": [
    {
     "data": {
      "text/html": [
       "<div>\n",
       "<style scoped>\n",
       "    .dataframe tbody tr th:only-of-type {\n",
       "        vertical-align: middle;\n",
       "    }\n",
       "\n",
       "    .dataframe tbody tr th {\n",
       "        vertical-align: top;\n",
       "    }\n",
       "\n",
       "    .dataframe thead th {\n",
       "        text-align: right;\n",
       "    }\n",
       "</style>\n",
       "<table border=\"1\" class=\"dataframe\">\n",
       "  <thead>\n",
       "    <tr style=\"text-align: right;\">\n",
       "      <th></th>\n",
       "      <th>user_id</th>\n",
       "      <th>revenue</th>\n",
       "    </tr>\n",
       "  </thead>\n",
       "  <tbody>\n",
       "    <tr>\n",
       "      <th>count</th>\n",
       "      <td>404770.000000</td>\n",
       "      <td>404770.000000</td>\n",
       "    </tr>\n",
       "    <tr>\n",
       "      <th>mean</th>\n",
       "      <td>202385.500000</td>\n",
       "      <td>26.083435</td>\n",
       "    </tr>\n",
       "    <tr>\n",
       "      <th>std</th>\n",
       "      <td>116847.178567</td>\n",
       "      <td>681.652928</td>\n",
       "    </tr>\n",
       "    <tr>\n",
       "      <th>min</th>\n",
       "      <td>1.000000</td>\n",
       "      <td>0.000000</td>\n",
       "    </tr>\n",
       "    <tr>\n",
       "      <th>25%</th>\n",
       "      <td>101193.250000</td>\n",
       "      <td>0.000000</td>\n",
       "    </tr>\n",
       "    <tr>\n",
       "      <th>50%</th>\n",
       "      <td>202385.500000</td>\n",
       "      <td>0.000000</td>\n",
       "    </tr>\n",
       "    <tr>\n",
       "      <th>75%</th>\n",
       "      <td>303577.750000</td>\n",
       "      <td>0.000000</td>\n",
       "    </tr>\n",
       "    <tr>\n",
       "      <th>max</th>\n",
       "      <td>404770.000000</td>\n",
       "      <td>37433.000000</td>\n",
       "    </tr>\n",
       "  </tbody>\n",
       "</table>\n",
       "</div>"
      ],
      "text/plain": [
       "             user_id        revenue\n",
       "count  404770.000000  404770.000000\n",
       "mean   202385.500000      26.083435\n",
       "std    116847.178567     681.652928\n",
       "min         1.000000       0.000000\n",
       "25%    101193.250000       0.000000\n",
       "50%    202385.500000       0.000000\n",
       "75%    303577.750000       0.000000\n",
       "max    404770.000000   37433.000000"
      ]
     },
     "execution_count": 43,
     "metadata": {},
     "output_type": "execute_result"
    }
   ],
   "source": [
    "df.describe()"
   ]
  },
  {
   "cell_type": "code",
   "execution_count": 44,
   "metadata": {},
   "outputs": [
    {
     "data": {
      "text/plain": [
       "user_id      False\n",
       "revenue      False\n",
       "testgroup    False\n",
       "dtype: bool"
      ]
     },
     "execution_count": 44,
     "metadata": {},
     "output_type": "execute_result"
    }
   ],
   "source": [
    "df.isna().any()"
   ]
  },
  {
   "cell_type": "code",
   "execution_count": 45,
   "metadata": {},
   "outputs": [
    {
     "data": {
      "text/plain": [
       "True"
      ]
     },
     "execution_count": 45,
     "metadata": {},
     "output_type": "execute_result"
    }
   ],
   "source": [
    "df.user_id.nunique() == df.shape[0]"
   ]
  },
  {
   "cell_type": "code",
   "execution_count": 46,
   "metadata": {},
   "outputs": [
    {
     "data": {
      "text/plain": [
       "202103"
      ]
     },
     "execution_count": 46,
     "metadata": {},
     "output_type": "execute_result"
    }
   ],
   "source": [
    "df[df.testgroup == 'a'].shape[0]"
   ]
  },
  {
   "cell_type": "markdown",
   "metadata": {},
   "source": [
    "a - контрольная группа, b - тестовая"
   ]
  },
  {
   "cell_type": "markdown",
   "metadata": {},
   "source": [
    "ARPU = (число клиентов) * (доход) / (число пользователей) *(число клиентов) = доход / число пользователей"
   ]
  },
  {
   "cell_type": "markdown",
   "metadata": {},
   "source": [
    "Соответсвенно, у нас есть доходы пользователей, и мы хотим проверить гипотезу $H_0$: средние доходы пользователей не отличаются"
   ]
  },
  {
   "cell_type": "markdown",
   "metadata": {},
   "source": [
    "Посмотрим на графики"
   ]
  },
  {
   "cell_type": "code",
   "execution_count": 47,
   "metadata": {},
   "outputs": [
    {
     "data": {
      "text/plain": [
       "<matplotlib.axes._subplots.AxesSubplot at 0x7f2452d25f98>"
      ]
     },
     "execution_count": 47,
     "metadata": {},
     "output_type": "execute_result"
    },
    {
     "data": {
      "image/png": "[encoded data removed]",
      "text/plain": [
       "<Figure size 1440x720 with 1 Axes>"
      ]
     },
     "metadata": {},
     "output_type": "display_data"
    }
   ],
   "source": [
    "sns.histplot(df[df.testgroup == 'a']['revenue'], bins=1000)"
   ]
  },
  {
   "cell_type": "markdown",
   "metadata": {},
   "source": [
    "из графика видно, распределение не является нормальным"
   ]
  },
  {
   "cell_type": "code",
   "execution_count": 48,
   "metadata": {},
   "outputs": [
    {
     "data": {
      "text/plain": [
       "MannwhitneyuResult(statistic=20491259376.0, pvalue=0.06269701316074398)"
      ]
     },
     "execution_count": 48,
     "metadata": {},
     "output_type": "execute_result"
    }
   ],
   "source": [
    "stats.mannwhitneyu(df[df.testgroup == 'a']['revenue'], df[df.testgroup == 'b']['revenue'])"
   ]
  },
  {
   "cell_type": "code",
   "execution_count": 49,
   "metadata": {},
   "outputs": [
    {
     "data": {
      "text/plain": [
       "26.75128659327863"
      ]
     },
     "execution_count": 49,
     "metadata": {},
     "output_type": "execute_result"
    }
   ],
   "source": [
    "df[df.testgroup == 'b']['revenue'].mean()"
   ]
  },
  {
   "cell_type": "code",
   "execution_count": 50,
   "metadata": {},
   "outputs": [
    {
     "data": {
      "text/plain": [
       "25.413719736965806"
      ]
     },
     "execution_count": 50,
     "metadata": {},
     "output_type": "execute_result"
    }
   ],
   "source": [
    "df[df.testgroup == 'a']['revenue'].mean()"
   ]
  },
  {
   "cell_type": "markdown",
   "metadata": {},
   "source": [
    "Для сравнения ARPU. Сделаем бутстрап"
   ]
  },
  {
   "cell_type": "code",
   "execution_count": 51,
   "metadata": {},
   "outputs": [],
   "source": [
    "def boot_mean(data_1, data_2): \n",
    "    means_diff = []\n",
    "    for i in range(10000):\n",
    "        sample_data1 = data_1.sample(frac=1, replace=True)\n",
    "        sample_mean1 = sample_data1.mean()\n",
    "        sample_data2 = data_2.sample(frac=1, replace=True)\n",
    "        sample_mean2 = sample_data2.mean()\n",
    "        means_diff.append(sample_mean1 - sample_mean2)\n",
    "    return means_diff"
   ]
  },
  {
   "cell_type": "code",
   "execution_count": 52,
   "metadata": {},
   "outputs": [],
   "source": [
    "revenue_means_diff = boot_mean(df[df.testgroup == 'a']['revenue'], df[df.testgroup == 'b']['revenue'])"
   ]
  },
  {
   "cell_type": "code",
   "execution_count": 53,
   "metadata": {},
   "outputs": [
    {
     "data": {
      "text/plain": [
       "<matplotlib.axes._subplots.AxesSubplot at 0x7f248f243ac8>"
      ]
     },
     "execution_count": 53,
     "metadata": {},
     "output_type": "execute_result"
    },
    {
     "data": {
      "image/png": "[encoded data removed]",
      "text/plain": [
       "<Figure size 1440x720 with 1 Axes>"
      ]
     },
     "metadata": {},
     "output_type": "display_data"
    }
   ],
   "source": [
    "sns.histplot(revenue_means_diff, bins=1000)"
   ]
  },
  {
   "cell_type": "code",
   "execution_count": 54,
   "metadata": {},
   "outputs": [
    {
     "name": "stdout",
     "output_type": "stream",
     "text": [
      "2.9518513895500935\n",
      "-5.470261789752636\n"
     ]
    }
   ],
   "source": [
    "print(pd.Series(revenue_means_diff).quantile(0.975))\n",
    "print(pd.Series(revenue_means_diff).quantile(0.025))"
   ]
  },
  {
   "cell_type": "markdown",
   "metadata": {},
   "source": [
    "Как видим, 0 попадает в квантиль, так что на уровне значимости 5% не будет отклонять гипотезу, о том, что средние одинаковы в пользу гипотезы, что они не равны"
   ]
  },
  {
   "cell_type": "markdown",
   "metadata": {},
   "source": [
    "Однако наборы акций скорее механизм для клиентов, а не для пользователей. Поэтому рассмотрим также ARPPU. Так мы увеличим точность."
   ]
  },
  {
   "cell_type": "code",
   "execution_count": 55,
   "metadata": {},
   "outputs": [],
   "source": [
    "df_customer = df[df.revenue > 0] "
   ]
  },
  {
   "cell_type": "code",
   "execution_count": 56,
   "metadata": {},
   "outputs": [
    {
     "data": {
      "text/plain": [
       "<matplotlib.axes._subplots.AxesSubplot at 0x7f245f152748>"
      ]
     },
     "execution_count": 56,
     "metadata": {},
     "output_type": "execute_result"
    },
    {
     "data": {
      "image/png": "[encoded data removed]",
      "text/plain": [
       "<Figure size 1440x720 with 1 Axes>"
      ]
     },
     "metadata": {},
     "output_type": "display_data"
    }
   ],
   "source": [
    "sns.histplot(data=df_customer, x='revenue', hue='testgroup')\n"
   ]
  },
  {
   "cell_type": "markdown",
   "metadata": {},
   "source": [
    "Уже из графиков видно, что распределения не являются нормальными, и что они различны, давайте убедимся в этом с помощью тестов"
   ]
  },
  {
   "cell_type": "code",
   "execution_count": 57,
   "metadata": {},
   "outputs": [
    {
     "data": {
      "text/plain": [
       "ShapiroResult(statistic=0.2667924761772156, pvalue=0.0)"
      ]
     },
     "execution_count": 57,
     "metadata": {},
     "output_type": "execute_result"
    }
   ],
   "source": [
    "stats.shapiro(df_customer[df_customer.testgroup == 'a'].revenue)"
   ]
  },
  {
   "cell_type": "code",
   "execution_count": 58,
   "metadata": {},
   "outputs": [
    {
     "data": {
      "text/plain": [
       "ShapiroResult(statistic=0.9583123922348022, pvalue=2.491345674771425e-22)"
      ]
     },
     "execution_count": 58,
     "metadata": {},
     "output_type": "execute_result"
    }
   ],
   "source": [
    "stats.shapiro(df_customer[df_customer.testgroup == 'b'].revenue)"
   ]
  },
  {
   "cell_type": "markdown",
   "metadata": {},
   "source": [
    "На уровне значимости 1% распределения отличаются от нормального"
   ]
  },
  {
   "cell_type": "code",
   "execution_count": 59,
   "metadata": {},
   "outputs": [],
   "source": [
    "diff_means = boot_mean(df_customer[df_customer.testgroup == 'a'].revenue,\n",
    "                       df_customer[df_customer.testgroup == 'b'].revenue)"
   ]
  },
  {
   "cell_type": "code",
   "execution_count": 60,
   "metadata": {},
   "outputs": [
    {
     "data": {
      "text/plain": [
       "<matplotlib.axes._subplots.AxesSubplot at 0x7f245e49b198>"
      ]
     },
     "execution_count": 60,
     "metadata": {},
     "output_type": "execute_result"
    },
    {
     "data": {
      "image/png": "[encoded data removed]",
      "text/plain": [
       "<Figure size 1440x720 with 1 Axes>"
      ]
     },
     "metadata": {},
     "output_type": "display_data"
    }
   ],
   "source": [
    "sns.histplot(diff_means, bins=1000)"
   ]
  },
  {
   "cell_type": "code",
   "execution_count": 61,
   "metadata": {},
   "outputs": [
    {
     "name": "stdout",
     "output_type": "stream",
     "text": [
      "73.90696437397288\n",
      "-730.8839327637036\n"
     ]
    }
   ],
   "source": [
    "print(pd.Series(diff_means).quantile(0.975))\n",
    "print(pd.Series(diff_means).quantile(0.025))"
   ]
  },
  {
   "cell_type": "markdown",
   "metadata": {},
   "source": [
    "0 входит в доверительный интервал, поэтому гипотезу о равенстве ARPPU нельзя отклонять в пользу альтернативной о неравенстве"
   ]
  },
  {
   "cell_type": "markdown",
   "metadata": {},
   "source": [
    "Рассмотрим также вспомогательную метрику -- среднее число пользователей, ставших клиентами. В целом, чем ближе ARPU к ARPPU, тем больше потенциал бизнеса (больше пользователей становятся клиентами)"
   ]
  },
  {
   "cell_type": "code",
   "execution_count": 62,
   "metadata": {},
   "outputs": [],
   "source": [
    "df['is_customer'] = df.revenue.apply(lambda x: 1 if x > 0 else 0)"
   ]
  },
  {
   "cell_type": "markdown",
   "metadata": {},
   "source": [
    "Будем считать, что пользователи переходят в контрольной группе с вероятностью $p_1$, а в тестовой -- $p_2$. Наша гипотеза, что $H_0: p_2 = p_1$ Против альтернативной $H_1: p_2 \\neq p_1$. Уровень значимости возьмём 5%"
   ]
  },
  {
   "cell_type": "markdown",
   "metadata": {},
   "source": [
    "Запишем z-статистику $\\frac{p_2-p_1}{\\sqrt{p(1-p)(\\frac{1}{n_1}+\\frac{1}{n_2})}}$, где $p=\\frac{n_1p_1+n_2p_2}{n_1+n_2}$, а $p_1,~p_2$ являются выборочными вероятностями и соответсвенно считаются как доля активных пользователей"
   ]
  },
  {
   "cell_type": "code",
   "execution_count": 63,
   "metadata": {},
   "outputs": [],
   "source": [
    "p1 = df[df.testgroup == 'a']['is_customer'].sum() / df[df.testgroup == 'a']['is_customer'].count()"
   ]
  },
  {
   "cell_type": "code",
   "execution_count": 64,
   "metadata": {},
   "outputs": [
    {
     "data": {
      "text/plain": [
       "0.009539690157988749"
      ]
     },
     "execution_count": 64,
     "metadata": {},
     "output_type": "execute_result"
    }
   ],
   "source": [
    "p1 "
   ]
  },
  {
   "cell_type": "code",
   "execution_count": 65,
   "metadata": {},
   "outputs": [],
   "source": [
    "p2 = df[df.testgroup == 'b']['is_customer'].sum() / df[df.testgroup == 'b']['is_customer'].count()"
   ]
  },
  {
   "cell_type": "code",
   "execution_count": 66,
   "metadata": {},
   "outputs": [
    {
     "data": {
      "text/plain": [
       "0.008906235351586593"
      ]
     },
     "execution_count": 66,
     "metadata": {},
     "output_type": "execute_result"
    }
   ],
   "source": [
    "p2"
   ]
  },
  {
   "cell_type": "code",
   "execution_count": 67,
   "metadata": {},
   "outputs": [],
   "source": [
    "n1 = df[df.testgroup == 'a']['is_customer'].count()\n",
    "n2 = df[df.testgroup == 'b']['is_customer'].count()"
   ]
  },
  {
   "cell_type": "code",
   "execution_count": 68,
   "metadata": {},
   "outputs": [],
   "source": [
    "p = (n1 * p1 + n2 * p2) / (n1 + n2)"
   ]
  },
  {
   "cell_type": "code",
   "execution_count": 69,
   "metadata": {},
   "outputs": [
    {
     "data": {
      "text/plain": [
       "-2.108028495889841"
      ]
     },
     "execution_count": 69,
     "metadata": {},
     "output_type": "execute_result"
    }
   ],
   "source": [
    "(p2 - p1) / (p * (1 - p) * (1 / n1 + 1 / n2)) ** 0.5"
   ]
  },
  {
   "cell_type": "markdown",
   "metadata": {},
   "source": [
    "-2.108 < -1.96 Значит на уровне значимости 5% мы должны отклонить гипотезу $H_0$ в пользу альтернативной $H_1$. То есть в тестовой группе вероятность стать клиентом из пользователя меньше"
   ]
  },
  {
   "cell_type": "markdown",
   "metadata": {},
   "source": [
    "Итог: в двух метриках ARPU и ARPPU на уровне значимости 5% результаты тестовой группы не отличаются от результатов контрольной. Однако на уровне значимости 5% вероятность перехода пользователя в клиенты снижается. Как итог тестовый вариант отклонить."
   ]
  },
  {
   "cell_type": "markdown",
   "metadata": {},
   "source": [
    "# Задание 3\n",
    "В игре Plants & Gardens каждый месяц проводятся тематические события, ограниченные по времени. В них игроки могут получить уникальные предметы для сада и персонажей, дополнительные монеты или бонусы. Для получения награды требуется пройти ряд уровней за определенное время. С помощью каких метрик можно оценить результаты последнего прошедшего события?\n",
    "\n",
    "Предположим, в другом событии мы усложнили механику событий так, что при каждой неудачной попытке выполнения уровня игрок будет откатываться на несколько уровней назад. Изменится ли набор метрик оценки результата? Если да, то как?"
   ]
  },
  {
   "cell_type": "markdown",
   "metadata": {},
   "source": [
    "Можем также анализировать три метрики, разобранные выше. В качестве основной пусть будет Средний доход с пользователя, в качестве дополнительных - средний доход с активного пользователя и также конверсия из пользователя в активного пользователя. Соответсвенно для понимания резульатов ивентов - смотреть их будем за периоды ивентов. Если нас интересует сравнение старой системы событий с новой, то активного пользователя нежелательно определять по числу пройденных уровней, а нужно выбрать не связанную с этим величину, например, часы проведённые в игре, или по количеству целевых действий (например, кликам, переходам в интерфейсе). "
   ]
  },
  {
   "cell_type": "markdown",
   "metadata": {},
   "source": [
    "Если, например, в месяц событие какое-то ограниченное число дней, то мы можем брать показатели в сравнение с показателями месяца, например, отношение количества уникальных пользователей в игре за событие, к колчеству уникальных пользователей за месяц. Точно также можно смотреть не на среднюю выручку, а на отношение к месячному периоду. (Эти показатели помогут сравнивать результаты ивентов между собой, исключив остальные возможные факторы влияния на базовые метрики)"
   ]
  },
  {
   "cell_type": "markdown",
   "metadata": {},
   "source": [
    "Также кроме различных метрик прибыли может быть полезна средняя продолжительность сессий; следить за ретеншином и вообще иметь представления о жизненном цикле игрока. "
   ]
  },
  {
   "cell_type": "code",
   "execution_count": null,
   "metadata": {},
   "outputs": [],
   "source": []
  }
 ],
 "metadata": {
  "kernelspec": {
   "display_name": "Python 3",
   "language": "python",
   "name": "python3"
  },
  "language_info": {
   "codemirror_mode": {
    "name": "ipython",
    "version": 3
   },
   "file_extension": ".py",
   "mimetype": "text/x-python",
   "name": "python",
   "nbconvert_exporter": "python",
   "pygments_lexer": "ipython3",
   "version": "3.7.3"
  }
 },
 "nbformat": 4,
 "nbformat_minor": 4
}
